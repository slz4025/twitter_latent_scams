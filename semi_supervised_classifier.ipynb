{
  "nbformat": 4,
  "nbformat_minor": 0,
  "metadata": {
    "colab": {
      "name": "semi-supervised classifier",
      "provenance": [],
      "authorship_tag": "ABX9TyN20AbssMLfpH1OsrIFbmds",
      "include_colab_link": true
    },
    "kernelspec": {
      "name": "python3",
      "display_name": "Python 3"
    }
  },
  "cells": [
    {
      "cell_type": "markdown",
      "metadata": {
        "id": "view-in-github",
        "colab_type": "text"
      },
      "source": [
        "<a href=\"https://colab.research.google.com/github/slz4025/twitter_latent_scams/blob/master/semi_supervised_classifier.ipynb\" target=\"_parent\"><img src=\"https://colab.research.google.com/assets/colab-badge.svg\" alt=\"Open In Colab\"/></a>"
      ]
    },
    {
      "cell_type": "markdown",
      "metadata": {
        "id": "EUxYl6bPwKK-",
        "colab_type": "text"
      },
      "source": [
        "This is a semi-supervised classifier for identifying tweets that talk about scams. The workflow is inspired by Scam Detection in Twitter (2014): https://link.springer.com/chapter/10.1007/978-3-642-45252-9_9"
      ]
    },
    {
      "cell_type": "code",
      "metadata": {
        "id": "b72n8C-FwGtU",
        "colab_type": "code",
        "colab": {
          "base_uri": "https://localhost:8080/",
          "height": 122
        },
        "outputId": "2074325d-dbea-4df2-ca2d-3a7b7aa3d7de"
      },
      "source": [
        "from google.colab import drive\n",
        "drive.mount('/content/drive')"
      ],
      "execution_count": null,
      "outputs": [
        {
          "output_type": "stream",
          "text": [
            "Go to this URL in a browser: https://accounts.google.com/o/oauth2/auth?client_id=947318989803-6bn6qk8qdgf4n4g3pfee6491hc0brc4i.apps.googleusercontent.com&redirect_uri=urn%3aietf%3awg%3aoauth%3a2.0%3aoob&response_type=code&scope=email%20https%3a%2f%2fwww.googleapis.com%2fauth%2fdocs.test%20https%3a%2f%2fwww.googleapis.com%2fauth%2fdrive%20https%3a%2f%2fwww.googleapis.com%2fauth%2fdrive.photos.readonly%20https%3a%2f%2fwww.googleapis.com%2fauth%2fpeopleapi.readonly\n",
            "\n",
            "Enter your authorization code:\n",
            "··········\n",
            "Mounted at /content/drive\n"
          ],
          "name": "stdout"
        }
      ]
    },
    {
      "cell_type": "code",
      "metadata": {
        "id": "_p4kzZnpxTFB",
        "colab_type": "code",
        "colab": {}
      },
      "source": [
        "file_name = \"filtered_covid_20200602\" #@param {type: \"string\"}"
      ],
      "execution_count": null,
      "outputs": []
    },
    {
      "cell_type": "code",
      "metadata": {
        "id": "PnZpt-dzwqtt",
        "colab_type": "code",
        "colab": {}
      },
      "source": [
        "processed_dir = \"drive/My Drive/latent_scams/processed_data/\"\n",
        "analyzed_dir = \"drive/My Drive/latent_scams/analyzed/\"\n",
        "data_file = \"{}.tsv\".format(file_name)\n",
        "score_file = \"scored_{}.tsv\".format(file_name)\n",
        "intermediate_file = \"intermediate_{}.tsv\".format(file_name)\n",
        "labelled_file = \"labelled_{}.tsv\".format(file_name)\n",
        "forest_params_file = \"forest_params.json\""
      ],
      "execution_count": null,
      "outputs": []
    },
    {
      "cell_type": "code",
      "metadata": {
        "id": "fPU3TOhgLnTd",
        "colab_type": "code",
        "colab": {}
      },
      "source": [
        "import pandas as pd\n",
        "import numpy as np\n",
        "import matplotlib.pyplot as plt\n",
        "import json"
      ],
      "execution_count": null,
      "outputs": []
    },
    {
      "cell_type": "markdown",
      "metadata": {
        "id": "_cHLxv_7LkvP",
        "colab_type": "text"
      },
      "source": [
        "##Preprocessing"
      ]
    },
    {
      "cell_type": "code",
      "metadata": {
        "id": "DeEPEQtXxHgu",
        "colab_type": "code",
        "colab": {}
      },
      "source": [
        "score_pd = pd.read_csv(analyzed_dir + score_file, sep=\"\\t\")\n",
        "del score_pd[\"Unnamed: 0\"]\n",
        "score_pd.head()"
      ],
      "execution_count": null,
      "outputs": []
    },
    {
      "cell_type": "code",
      "metadata": {
        "id": "cVSMKJ34yBMr",
        "colab_type": "code",
        "colab": {}
      },
      "source": [
        "tweet_pd = pd.read_csv(processed_dir + data_file, sep=\"\\t\")\n",
        "del tweet_pd[\"Unnamed: 0\"]\n",
        "tweet_pd.head()"
      ],
      "execution_count": null,
      "outputs": []
    },
    {
      "cell_type": "code",
      "metadata": {
        "id": "ml6nQgOY5xrG",
        "colab_type": "code",
        "colab": {}
      },
      "source": [
        "scored_tweets_pd = pd.merge(score_pd, tweet_pd, how=\"outer\", on=[\"tweet_id\"]).reset_index()\n",
        "scored_tweets_pd.head()"
      ],
      "execution_count": null,
      "outputs": []
    },
    {
      "cell_type": "markdown",
      "metadata": {
        "id": "9uNustAyLYsf",
        "colab_type": "text"
      },
      "source": [
        "###Cleaning data"
      ]
    },
    {
      "cell_type": "code",
      "metadata": {
        "id": "nLB5uj-L8cV3",
        "colab_type": "code",
        "colab": {
          "base_uri": "https://localhost:8080/",
          "height": 122
        },
        "outputId": "5c070b2f-17d3-4842-faf2-6f1b26e8b5ca"
      },
      "source": [
        "import re\n",
        "import string\n",
        "import nltk\n",
        "nltk.download('stopwords')\n",
        "nltk.download('punkt')\n",
        "from nltk.corpus import stopwords\n",
        "#from nltk.tokenize import word_tokenize \n",
        "# from nltk.stem.porter import PorterStemmer\n",
        "print(stopwords.words('english'))"
      ],
      "execution_count": null,
      "outputs": [
        {
          "output_type": "stream",
          "text": [
            "[nltk_data] Downloading package stopwords to /root/nltk_data...\n",
            "[nltk_data]   Unzipping corpora/stopwords.zip.\n",
            "[nltk_data] Downloading package punkt to /root/nltk_data...\n",
            "[nltk_data]   Unzipping tokenizers/punkt.zip.\n",
            "['i', 'me', 'my', 'myself', 'we', 'our', 'ours', 'ourselves', 'you', \"you're\", \"you've\", \"you'll\", \"you'd\", 'your', 'yours', 'yourself', 'yourselves', 'he', 'him', 'his', 'himself', 'she', \"she's\", 'her', 'hers', 'herself', 'it', \"it's\", 'its', 'itself', 'they', 'them', 'their', 'theirs', 'themselves', 'what', 'which', 'who', 'whom', 'this', 'that', \"that'll\", 'these', 'those', 'am', 'is', 'are', 'was', 'were', 'be', 'been', 'being', 'have', 'has', 'had', 'having', 'do', 'does', 'did', 'doing', 'a', 'an', 'the', 'and', 'but', 'if', 'or', 'because', 'as', 'until', 'while', 'of', 'at', 'by', 'for', 'with', 'about', 'against', 'between', 'into', 'through', 'during', 'before', 'after', 'above', 'below', 'to', 'from', 'up', 'down', 'in', 'out', 'on', 'off', 'over', 'under', 'again', 'further', 'then', 'once', 'here', 'there', 'when', 'where', 'why', 'how', 'all', 'any', 'both', 'each', 'few', 'more', 'most', 'other', 'some', 'such', 'no', 'nor', 'not', 'only', 'own', 'same', 'so', 'than', 'too', 'very', 's', 't', 'can', 'will', 'just', 'don', \"don't\", 'should', \"should've\", 'now', 'd', 'll', 'm', 'o', 're', 've', 'y', 'ain', 'aren', \"aren't\", 'couldn', \"couldn't\", 'didn', \"didn't\", 'doesn', \"doesn't\", 'hadn', \"hadn't\", 'hasn', \"hasn't\", 'haven', \"haven't\", 'isn', \"isn't\", 'ma', 'mightn', \"mightn't\", 'mustn', \"mustn't\", 'needn', \"needn't\", 'shan', \"shan't\", 'shouldn', \"shouldn't\", 'wasn', \"wasn't\", 'weren', \"weren't\", 'won', \"won't\", 'wouldn', \"wouldn't\"]\n"
          ],
          "name": "stdout"
        }
      ]
    },
    {
      "cell_type": "code",
      "metadata": {
        "id": "VsVH8dC3_8Cj",
        "colab_type": "code",
        "colab": {}
      },
      "source": [
        "# taking out !#$@'?\"&()*+-/:;<=>[\\]^_`{|}~\n",
        "modified_punc = \"\"\"\n",
        ".,\n",
        "\"\"\""
      ],
      "execution_count": null,
      "outputs": []
    },
    {
      "cell_type": "markdown",
      "metadata": {
        "id": "rz6xyA7KFgb6",
        "colab_type": "text"
      },
      "source": [
        "Thesaurus is expensive, so do for top N (100, 200) tweets. \n",
        "~2000 words carry meaning of conversation. => Look at these and give to Prof. Carley.\n",
        "Prof. Carley may have thesaurus that can process for these.\n",
        "Also thesaurus for variations of COVID.\n",
        "Thesaurus is only more important in actual analysis.\n"
      ]
    },
    {
      "cell_type": "code",
      "metadata": {
        "id": "79Oigmst70Wd",
        "colab_type": "code",
        "colab": {
          "base_uri": "https://localhost:8080/",
          "height": 105
        },
        "outputId": "2c00a3cf-1aec-40cf-f411-aff3c8f5dadc"
      },
      "source": [
        "# for each row, de-punctuate\n",
        "# remove stop words\n",
        "# don't de-stem for now as different stems have somewhat different associations\n",
        "# de-emoji: https://stackoverflow.com/questions/33404752/removing-emojis-from-a-string-in-python\n",
        "\n",
        "def de_emojify(text):\n",
        "    regex_pattern = re.compile(pattern = \"[\"\n",
        "        u\"\\U0001F600-\\U0001F64F\"  # emoticons\n",
        "        u\"\\U0001F300-\\U0001F5FF\"  # symbols & pictographs\n",
        "        u\"\\U0001F680-\\U0001F6FF\"  # transport & map symbols\n",
        "        u\"\\U0001F1E0-\\U0001F1FF\"  # flags (iOS)\n",
        "                           \"]+\", flags = re.UNICODE)\n",
        "    return regex_pattern.sub(r'', text)\n",
        "\n",
        "#https://help.twitter.com/en/using-twitter/replies-not-showing-up-and-hashtag-problems\n",
        "# (1) words with opt. apostrophe\n",
        "# (2) words with opt. @ prefix\n",
        "# (3) words with opt. # prefix\n",
        "# (4) keep acronyms (i.e. U.S.A.)\n",
        "# (5) punctuation treated as separate token\n",
        "pattern = r\"\"\"(?:[A-Z]\\.)+[A-Z]?|\\w+(?:'\\w+)*|@?\\w+|#?\\w+|[!$'?\"&()*+-/:;<=>[\\]^_`{|}~]\"\"\"\n",
        "\n",
        "#https://www.nltk.org/book/ch03.html#sec-tokenization\n",
        "def tweet_tokenize(text):\n",
        "  return nltk.regexp_tokenize(text, pattern)\n",
        "\n",
        "def clean_body(body):\n",
        "  de_punc = body.translate(str.maketrans('', '', modified_punc))\n",
        "  de_emoji = de_emojify(de_punc)\n",
        "  tokens = tweet_tokenize(de_emoji) \n",
        "  de_stop = [word for word in tokens if word.lower() not in stopwords.words('english')]\n",
        "  return de_stop\n",
        "\n",
        "# test\n",
        "print(tweet_tokenize(\"We'll see about that @missy #revenge\"))\n",
        "print(tweet_tokenize(\"!$'?\\\"&()*+-/:;<=>[]^_`{|}~#@\"))\n",
        "print(tweet_tokenize(\"U.S.A U.S.A. u.s.a u.s.a.\"))\n",
        "print(clean_body(\"He @bud It's a long walk home😢 #tears.\"))"
      ],
      "execution_count": null,
      "outputs": [
        {
          "output_type": "stream",
          "text": [
            "[\"We'll\", 'see', 'about', 'that', '@missy', '#revenge']\n",
            "['!', '$', \"'\", '?', '\"', '&', '(', ')', '*', '+', '-', '/', ':', ';', '<', '=', '>', '[', ']', '^', '_', '`', '{', '|', '}', '~']\n",
            "['U.S.A', 'U.S.A.', 'u', '.', 's', '.', 'a', 'u', '.', 's', '.', 'a', '.']\n",
            "['@bud', 'long', 'walk', 'home', '#tears']\n"
          ],
          "name": "stdout"
        }
      ]
    },
    {
      "cell_type": "code",
      "metadata": {
        "id": "0STuFtmW7EtR",
        "colab_type": "code",
        "colab": {}
      },
      "source": [
        "cleaned = []\n",
        "for i, row in scored_tweets_pd.iterrows():\n",
        "  cleaned.append(clean_body(row[\"body\"]))\n",
        "  if i % 1000 == 0: print(i)"
      ],
      "execution_count": null,
      "outputs": []
    },
    {
      "cell_type": "code",
      "metadata": {
        "id": "1-byxWXz_xO3",
        "colab_type": "code",
        "colab": {
          "base_uri": "https://localhost:8080/",
          "height": 34
        },
        "outputId": "d1ccec74-7c0b-422f-e514-4104b398b198"
      },
      "source": [
        "scored_tweets_pd[\"cleaned\"] = cleaned\n",
        "clean_text = cleaned\n",
        "detokenized_text = [' '.join(t) for t in clean_text]\n",
        "scored_tweets_pd[\"cleaned_text\"] = detokenized_text\n",
        "len(detokenized_text)"
      ],
      "execution_count": null,
      "outputs": [
        {
          "output_type": "execute_result",
          "data": {
            "text/plain": [
              "392691"
            ]
          },
          "metadata": {
            "tags": []
          },
          "execution_count": 19
        }
      ]
    },
    {
      "cell_type": "markdown",
      "metadata": {
        "id": "NnQCkpIHLT5c",
        "colab_type": "text"
      },
      "source": [
        "###Intermediate step"
      ]
    },
    {
      "cell_type": "markdown",
      "metadata": {
        "id": "7uz2vZfo9KR8",
        "colab_type": "text"
      },
      "source": [
        "Save progress"
      ]
    },
    {
      "cell_type": "code",
      "metadata": {
        "id": "2PRNOyUs5DbJ",
        "colab_type": "code",
        "colab": {}
      },
      "source": [
        "scored_tweets_pd.to_csv(sep='\\t', path_or_buf=processed_dir + intermediate_file)\n",
        "scored_tweets_pd.head()"
      ],
      "execution_count": null,
      "outputs": []
    },
    {
      "cell_type": "markdown",
      "metadata": {
        "id": "4TDd6ewg9L6A",
        "colab_type": "text"
      },
      "source": [
        "Use progress"
      ]
    },
    {
      "cell_type": "code",
      "metadata": {
        "id": "xb6qM9vk5f9i",
        "colab_type": "code",
        "colab": {}
      },
      "source": [
        "# if already have file\n",
        "scored_tweets_pd = pd.read_csv(processed_dir + intermediate_file, sep='\\t')"
      ],
      "execution_count": null,
      "outputs": []
    },
    {
      "cell_type": "markdown",
      "metadata": {
        "id": "quiExHXd_5KI",
        "colab_type": "text"
      },
      "source": [
        "###Optional thresholding by score"
      ]
    },
    {
      "cell_type": "code",
      "metadata": {
        "id": "zKPDS52T_1Xz",
        "colab_type": "code",
        "colab": {
          "base_uri": "https://localhost:8080/",
          "height": 34
        },
        "outputId": "49e7b975-012f-4f3f-a177-ed7d7b6634c1"
      },
      "source": [
        "pos_threshold = 3\n",
        "good = scored_tweets_pd[scored_tweets_pd[\"score\"] >= pos_threshold]\n",
        "good.shape[0]"
      ],
      "execution_count": null,
      "outputs": [
        {
          "output_type": "execute_result",
          "data": {
            "text/plain": [
              "2064"
            ]
          },
          "metadata": {
            "tags": []
          },
          "execution_count": 88
        }
      ]
    },
    {
      "cell_type": "code",
      "metadata": {
        "id": "ek0qpvavUh5H",
        "colab_type": "code",
        "colab": {
          "base_uri": "https://localhost:8080/",
          "height": 34
        },
        "outputId": "b40a5ea0-1d3d-4c60-fb62-dcbfd64638f5"
      },
      "source": [
        "neg_threshold = 0\n",
        "bad = scored_tweets_pd[scored_tweets_pd[\"score\"] <= neg_threshold]\n",
        "bad.shape"
      ],
      "execution_count": null,
      "outputs": [
        {
          "output_type": "execute_result",
          "data": {
            "text/plain": [
              "(378937, 8)"
            ]
          },
          "metadata": {
            "tags": []
          },
          "execution_count": 89
        }
      ]
    },
    {
      "cell_type": "code",
      "metadata": {
        "id": "_DPZndv1VCQF",
        "colab_type": "code",
        "colab": {
          "base_uri": "https://localhost:8080/",
          "height": 34
        },
        "outputId": "59818555-a92c-4f27-e730-e3f5aee14cfb"
      },
      "source": [
        "bad = bad.sample(n=good.shape[0])\n",
        "bad.shape"
      ],
      "execution_count": null,
      "outputs": [
        {
          "output_type": "execute_result",
          "data": {
            "text/plain": [
              "(2064, 8)"
            ]
          },
          "metadata": {
            "tags": []
          },
          "execution_count": 90
        }
      ]
    },
    {
      "cell_type": "code",
      "metadata": {
        "id": "_eG-MyaHUlVG",
        "colab_type": "code",
        "colab": {}
      },
      "source": [
        "scored_tweets_pd = pd.concat([good, bad])"
      ],
      "execution_count": null,
      "outputs": []
    },
    {
      "cell_type": "code",
      "metadata": {
        "id": "Y6_CQNoC_4BE",
        "colab_type": "code",
        "colab": {}
      },
      "source": [
        "detokenized_text = scored_tweets_pd[\"cleaned_text\"].tolist()\n",
        "clean_text = [d.split(' ') for d in detokenized_text]\n",
        "print(scored_tweets_pd.shape)\n",
        "scored_tweets_pd.head()"
      ],
      "execution_count": null,
      "outputs": []
    },
    {
      "cell_type": "markdown",
      "metadata": {
        "id": "SqEr_nnXLes2",
        "colab_type": "text"
      },
      "source": [
        "##LSA"
      ]
    },
    {
      "cell_type": "markdown",
      "metadata": {
        "id": "q25TsmyfGJ7H",
        "colab_type": "text"
      },
      "source": [
        "Still standard ways to map documents to semantic space. \n",
        "Word vector (word2vec) and use some clustering technique.\n",
        "May try word2vec or another one.\n",
        "Bert or other high-level transformer/attention-based models.\n",
        "\n",
        "If want to cluster based on social AND semantic then use multi-modal, high-dimensional clustering (~Iain)."
      ]
    },
    {
      "cell_type": "markdown",
      "metadata": {
        "id": "op0BmJJNEC7m",
        "colab_type": "text"
      },
      "source": [
        "###ATTEMPT 1: https://www.datacamp.com/community/tutorials/discovering-hidden-topics-python"
      ]
    },
    {
      "cell_type": "code",
      "metadata": {
        "id": "PsUQIkIw9bjs",
        "colab_type": "code",
        "colab": {}
      },
      "source": [
        "from gensim import corpora\n",
        "from gensim.models import LsiModel\n",
        "from nltk.tokenize import RegexpTokenizer\n",
        "from gensim.models.coherencemodel import CoherenceModel"
      ],
      "execution_count": null,
      "outputs": []
    },
    {
      "cell_type": "code",
      "metadata": {
        "id": "gQgwwb9dGJQt",
        "colab_type": "code",
        "colab": {
          "base_uri": "https://localhost:8080/",
          "height": 34
        },
        "outputId": "bd130e06-91d7-4472-ec09-d0f3b60bb6b5"
      },
      "source": [
        "dictionary = corpora.Dictionary(clean_text)\n",
        "doc_term_matrix = [dictionary.doc2bow(doc) for doc in clean_text]\n",
        "len(doc_term_matrix), len(doc_term_matrix[0])"
      ],
      "execution_count": null,
      "outputs": [
        {
          "output_type": "execute_result",
          "data": {
            "text/plain": [
              "(4128, 31)"
            ]
          },
          "metadata": {
            "tags": []
          },
          "execution_count": 104
        }
      ]
    },
    {
      "cell_type": "markdown",
      "metadata": {
        "id": "o3nVv1PRK6I_",
        "colab_type": "text"
      },
      "source": [
        "###Intermediate step"
      ]
    },
    {
      "cell_type": "markdown",
      "metadata": {
        "id": "zWv6YK3T8zqJ",
        "colab_type": "text"
      },
      "source": [
        "Save progress"
      ]
    },
    {
      "cell_type": "code",
      "metadata": {
        "id": "Gl-eJTIO8m8K",
        "colab_type": "code",
        "colab": {}
      },
      "source": [
        "scored_tweets_pd[\"term_vec\"] = scored_tweets_pd\n",
        "scored_tweets_pd.to_csv(sep='\\t', path_or_buf=processed_dir + \"2_\" + intermediate_file)"
      ],
      "execution_count": null,
      "outputs": []
    },
    {
      "cell_type": "markdown",
      "metadata": {
        "id": "rWdLyOft9Obd",
        "colab_type": "text"
      },
      "source": [
        "Use progress"
      ]
    },
    {
      "cell_type": "code",
      "metadata": {
        "id": "wHpiDMcx9Pc2",
        "colab_type": "code",
        "colab": {}
      },
      "source": [
        "scored_tweets_pd = pd.read_csv(processed_dir + \"2_\" + intermediate_file, sep='\\t')\n",
        "clean_text = scored_tweets_pd[\"cleaned\"].tolist()\n",
        "detokenized_text = scored_tweets_pd[\"cleaned_text\"].tolist()\n",
        "doc_term_matrix = scored_tweets_pd[\"term_vec\"].tolist()\n",
        "scored_tweets_pd.head()"
      ],
      "execution_count": null,
      "outputs": []
    },
    {
      "cell_type": "markdown",
      "metadata": {
        "id": "hm8vUSmlK-tr",
        "colab_type": "text"
      },
      "source": [
        "###Choose number of topics"
      ]
    },
    {
      "cell_type": "code",
      "metadata": {
        "id": "j-1JjrMwGK5b",
        "colab_type": "code",
        "colab": {}
      },
      "source": [
        "start,stop,step=2, 15, 1\n",
        "\n",
        "coherence_values = []\n",
        "for num_topics in range(start, stop, step):\n",
        "    model = LsiModel(doc_term_matrix, num_topics=num_topics, id2word = dictionary)\n",
        "    coherencemodel = CoherenceModel(model=model, texts=clean_text, dictionary=dictionary, coherence='c_v')\n",
        "    coherence_values.append(coherencemodel.get_coherence())"
      ],
      "execution_count": null,
      "outputs": []
    },
    {
      "cell_type": "code",
      "metadata": {
        "id": "iK8349LCGMXj",
        "colab_type": "code",
        "colab": {
          "base_uri": "https://localhost:8080/",
          "height": 279
        },
        "outputId": "96be6aeb-5aaa-47da-d6a5-219c4882341c"
      },
      "source": [
        "x = range(start, stop, step)\n",
        "plt.plot(x, coherence_values)\n",
        "plt.xlabel(\"Number of Topics\")\n",
        "plt.ylabel(\"Coherence score\")\n",
        "plt.legend((\"coherence_values\"), loc='best')\n",
        "plt.show()"
      ],
      "execution_count": null,
      "outputs": [
        {
          "output_type": "display_data",
          "data": {
            "image/png": "[encoded data removed]",
            "text/plain": [
              "<Figure size 432x288 with 1 Axes>"
            ]
          },
          "metadata": {
            "tags": [],
            "needs_background": "light"
          }
        }
      ]
    },
    {
      "cell_type": "markdown",
      "metadata": {
        "id": "7w9nf8yxGaFp",
        "colab_type": "text"
      },
      "source": [
        "###Perform"
      ]
    },
    {
      "cell_type": "code",
      "metadata": {
        "id": "9HcqI0p2GNsN",
        "colab_type": "code",
        "colab": {}
      },
      "source": [
        "number_of_topics = 9\n",
        "lsamodel = LsiModel(doc_term_matrix, num_topics=number_of_topics, id2word = dictionary)\n",
        "# look at topics\n",
        "for t in lsamodel.print_topics(num_topics=number_of_topics):\n",
        "  print(t)\n",
        "\n",
        "def cluster_vec(tups):\n",
        "  vec = [0.0 for i in range(number_of_topics)]\n",
        "  for i,v in tups:\n",
        "    vec[i] = v\n",
        "  return np.array(vec)\n",
        "\n",
        "X_topics = np.array([cluster_vec(e) for e in lsamodel[doc_term_matrix]])\n",
        "X_topics.shape"
      ],
      "execution_count": null,
      "outputs": []
    },
    {
      "cell_type": "markdown",
      "metadata": {
        "id": "Q_IJIm-mK3ZO",
        "colab_type": "text"
      },
      "source": [
        "###Intermediate Step"
      ]
    },
    {
      "cell_type": "markdown",
      "metadata": {
        "id": "wZIXV4Fp9o6r",
        "colab_type": "text"
      },
      "source": [
        "Save progress"
      ]
    },
    {
      "cell_type": "code",
      "metadata": {
        "id": "9UoYZM0j9ckM",
        "colab_type": "code",
        "colab": {}
      },
      "source": [
        "topic_list = X_topics.tolist()\n",
        "scored_tweets_pd[\"topics\"] = topic_list\n",
        "scored_tweets_pd.to_csv(sep='\\t',path_or_buf=processed_dir + +\"3_\" + intermediate_file)"
      ],
      "execution_count": null,
      "outputs": []
    },
    {
      "cell_type": "markdown",
      "metadata": {
        "id": "xLDZL_sg9qGk",
        "colab_type": "text"
      },
      "source": [
        "Use Progress"
      ]
    },
    {
      "cell_type": "code",
      "metadata": {
        "id": "z39HS79K9spD",
        "colab_type": "code",
        "colab": {}
      },
      "source": [
        "scored_tweets_pd = pd.read_csv(processed_dir + \"3_\" + intermediate_file, sep='\\t')\n",
        "clean_text = scored_tweets_pd[\"cleaned\"].tolist()\n",
        "detokenized_text = scored_tweets_pd[\"cleaned_text\"].tolist()\n",
        "doc_term_matrix = scored_tweets_pd[\"term_vec\"].tolist()\n",
        "X_topics = np.array(scored_tweets_pd[\"topics\"])\n",
        "scored_tweets_pd.head()"
      ],
      "execution_count": null,
      "outputs": []
    },
    {
      "cell_type": "markdown",
      "metadata": {
        "id": "zp4IUlHIEEd-",
        "colab_type": "text"
      },
      "source": [
        "###ATTEMPT 2: https://medium.com/kuzok/news-documents-clustering-using-python-latent-semantic-analysis-b95c7b68861c"
      ]
    },
    {
      "cell_type": "code",
      "metadata": {
        "id": "gCpJqykUECrL",
        "colab_type": "code",
        "colab": {
          "base_uri": "https://localhost:8080/",
          "height": 34
        },
        "outputId": "21696c96-f199-4b37-dd6b-bf9f8a1b9d67"
      },
      "source": [
        "\"\"\"\n",
        "from sklearn.feature_extraction.text import TfidfVectorizer\n",
        "\n",
        "# may want to change max_features, which is frequency\n",
        "# may want to change max_df, which is frequency\n",
        "vectorizer = TfidfVectorizer(\n",
        "    #stop_words=stopwords,\n",
        "    #max_features=10000,\n",
        "    #max_df = 0.5,\n",
        "    use_idf = True,\n",
        "    ngram_range=(1,3)\n",
        "  )\n",
        "X = vectorizer.fit_transform(detokenized_text)\n",
        "terms = vectorizer.get_feature_names()\n",
        "X.shape\n",
        "\n",
        "# LSA - we also condense the vectors\n",
        "\n",
        "num_topics = 10\n",
        "debug = False\n",
        "from sklearn.utils.extmath import randomized_svd\n",
        "U, Sigma, VT = randomized_svd(X, n_components=num_topics, n_iter=100,\n",
        "                              random_state=122)\n",
        "#printing the concepts\n",
        "for i, comp in enumerate(VT):\n",
        "        terms_comp = zip(terms, comp)\n",
        "        sorted_terms = sorted(terms_comp, key= lambda x:x[1], reverse=True)[:7]\n",
        "        if debug:\n",
        "          print(\"Concept \"+str(i)+\": \")\n",
        "          for t in sorted_terms:\n",
        "              print(t[0])\n",
        "          print(\" \")\n",
        "\n",
        "# get a condensed vector of each text\n",
        "X_topics = U * Sigma\n",
        "X_topics.shape\n",
        "\"\"\""
      ],
      "execution_count": null,
      "outputs": [
        {
          "output_type": "execute_result",
          "data": {
            "text/plain": [
              "(51, 2109)"
            ]
          },
          "metadata": {
            "tags": []
          },
          "execution_count": 15
        }
      ]
    },
    {
      "cell_type": "markdown",
      "metadata": {
        "id": "SHqCDbLgKqg9",
        "colab_type": "text"
      },
      "source": [
        "### Visual analysis"
      ]
    },
    {
      "cell_type": "code",
      "metadata": {
        "id": "zyDi6bvoA3_t",
        "colab_type": "code",
        "colab": {
          "base_uri": "https://localhost:8080/",
          "height": 34
        },
        "outputId": "9db415cc-73bb-4d72-d9de-a7e9b4ad4391"
      },
      "source": [
        "hard_topics = np.argmax(X_topics, axis=1)\n",
        "hard_topics.shape"
      ],
      "execution_count": null,
      "outputs": [
        {
          "output_type": "execute_result",
          "data": {
            "text/plain": [
              "(4128,)"
            ]
          },
          "metadata": {
            "tags": []
          },
          "execution_count": 119
        }
      ]
    },
    {
      "cell_type": "code",
      "metadata": {
        "id": "qBnY1a5LA_SS",
        "colab_type": "code",
        "colab": {}
      },
      "source": [
        "# Create 2D embedding to judge how good the concepts are\n",
        "\n",
        "import umap\n",
        "embedding = umap.UMAP(n_neighbors=100, min_dist=0.5, random_state=12).fit_transform(X_topics)"
      ],
      "execution_count": null,
      "outputs": []
    },
    {
      "cell_type": "code",
      "metadata": {
        "id": "SSGMQgFNVhXM",
        "colab_type": "code",
        "colab": {
          "base_uri": "https://localhost:8080/",
          "height": 320
        },
        "outputId": "7ec6a624-12dd-45d0-a437-5bbcf17be30a"
      },
      "source": [
        "plt.figure(figsize=(7, 5))\n",
        "plt.scatter(\n",
        "    embedding[:, 0],\n",
        "    embedding[:, 1], \n",
        "    c = hard_topics,\n",
        "    s = 10, # marker size\n",
        "    edgecolor='none'\n",
        ")\n",
        "plt.show()"
      ],
      "execution_count": null,
      "outputs": [
        {
          "output_type": "display_data",
          "data": {
            "image/png": "[encoded data removed]",
            "text/plain": [
              "<Figure size 504x360 with 1 Axes>"
            ]
          },
          "metadata": {
            "tags": [],
            "needs_background": "light"
          }
        }
      ]
    },
    {
      "cell_type": "markdown",
      "metadata": {
        "id": "iKfyhVwIKjYP",
        "colab_type": "text"
      },
      "source": [
        "## K-Means"
      ]
    },
    {
      "cell_type": "code",
      "metadata": {
        "id": "JauGMUdiVkus",
        "colab_type": "code",
        "colab": {}
      },
      "source": [
        "# We use the reduced form.\n",
        "X = X_topics"
      ],
      "execution_count": null,
      "outputs": []
    },
    {
      "cell_type": "markdown",
      "metadata": {
        "id": "TG_4EDYzHENA",
        "colab_type": "text"
      },
      "source": [
        "###Choose optimal K: https://medium.com/analytics-vidhya/how-to-determine-the-optimal-k-for-k-means-708505d204eb"
      ]
    },
    {
      "cell_type": "code",
      "metadata": {
        "id": "Z5kcl5wgHBtT",
        "colab_type": "code",
        "colab": {
          "base_uri": "https://localhost:8080/",
          "height": 283
        },
        "outputId": "ac656f05-7ad5-43c8-9708-b748aa5d8ea4"
      },
      "source": [
        "from sklearn.metrics import silhouette_score\n",
        "from sklearn.cluster import KMeans\n",
        "\n",
        "sil = []\n",
        "kmax = 10\n",
        "\n",
        "# dissimilarity would not be defined for a single cluster, thus, minimum number of clusters should be 2\n",
        "ks = [k for k in range(2, kmax + 1)]\n",
        "for k in ks:\n",
        "  kmeans = KMeans(n_clusters = k).fit(X)\n",
        "  labels = kmeans.labels_\n",
        "  sil.append(silhouette_score(X, labels, metric = 'euclidean'))\n",
        "\n",
        "plt.plot(ks, sil)"
      ],
      "execution_count": null,
      "outputs": [
        {
          "output_type": "execute_result",
          "data": {
            "text/plain": [
              "[<matplotlib.lines.Line2D at 0x7fbb24009358>]"
            ]
          },
          "metadata": {
            "tags": []
          },
          "execution_count": 123
        },
        {
          "output_type": "display_data",
          "data": {
            "image/png": "[encoded data removed]",
            "text/plain": [
              "<Figure size 432x288 with 1 Axes>"
            ]
          },
          "metadata": {
            "tags": [],
            "needs_background": "light"
          }
        }
      ]
    },
    {
      "cell_type": "markdown",
      "metadata": {
        "id": "hYdHVZQ_Cl4K",
        "colab_type": "text"
      },
      "source": [
        "Choose optimum number based on graph above."
      ]
    },
    {
      "cell_type": "code",
      "metadata": {
        "id": "jjeG8GxiHM0_",
        "colab_type": "code",
        "colab": {}
      },
      "source": [
        "# K-Means clustering with representative identification\n",
        "\n",
        "num_clusters = 7 # probably same as num topics\n",
        "km = KMeans(n_clusters=num_clusters)\n",
        "km.fit(X)\n",
        "clusters = km.labels_\n",
        "centroids = km.cluster_centers_"
      ],
      "execution_count": null,
      "outputs": []
    },
    {
      "cell_type": "markdown",
      "metadata": {
        "id": "eGB63UkOKZNz",
        "colab_type": "text"
      },
      "source": [
        "### Intermediate Step"
      ]
    },
    {
      "cell_type": "markdown",
      "metadata": {
        "id": "-Ip0D3Qj98S9",
        "colab_type": "text"
      },
      "source": [
        "Save progress"
      ]
    },
    {
      "cell_type": "code",
      "metadata": {
        "id": "BGnGdt0895fp",
        "colab_type": "code",
        "colab": {}
      },
      "source": [
        "scored_tweets_pd[\"k_cluster\"] = clusters\n",
        "scored_tweets_pd.to_csv(sep='\\t',path_or_buf=processed_dir + +\"4_\" + intermediate_file)"
      ],
      "execution_count": null,
      "outputs": []
    },
    {
      "cell_type": "markdown",
      "metadata": {
        "id": "yGUAPVYj99i1",
        "colab_type": "text"
      },
      "source": [
        "Use progress"
      ]
    },
    {
      "cell_type": "code",
      "metadata": {
        "id": "X_4HAFD8-HuS",
        "colab_type": "code",
        "colab": {}
      },
      "source": [
        "scored_tweets_pd = pd.read_csv(processed_dir + \"4_\" + intermediate_file, sep='\\t')\n",
        "clean_text = scored_tweets_pd[\"cleaned\"].tolist()\n",
        "detokenized_text = scored_tweets_pd[\"cleaned_text\"].tolist()\n",
        "doc_term_matrix = scored_tweets_pd[\"term_vec\"].tolist()\n",
        "X_topics = np.array(scored_tweets_pd[\"topics\"].tolist())\n",
        "clusters = scored_tweets_pd[\"k_cluster\"].tolist()\n",
        "\n",
        "X = X_topics\n",
        "\n",
        "scored_tweets_pd.head()"
      ],
      "execution_count": null,
      "outputs": []
    },
    {
      "cell_type": "markdown",
      "metadata": {
        "id": "ZEh4E02EKdwg",
        "colab_type": "text"
      },
      "source": [
        "###Examine representatives"
      ]
    },
    {
      "cell_type": "code",
      "metadata": {
        "id": "owFAUTfl97Ex",
        "colab_type": "code",
        "colab": {
          "base_uri": "https://localhost:8080/",
          "height": 34
        },
        "outputId": "d541deb9-40f2-4756-c63a-ed5a5f66f109"
      },
      "source": [
        "def find_rep(data, C, i_centroid, cluster_labels):\n",
        "  D = data[cluster_labels == i_centroid]\n",
        "  # index is 1D so take first dim\n",
        "  I = np.where(cluster_labels == i_centroid)[0]\n",
        "  min_ind = np.argmin([np.linalg.norm(C-d) for d in D])\n",
        "  true_min_ind = I[min_ind]\n",
        "  return true_min_ind\n",
        "\n",
        "representatives = []\n",
        "for i, C in enumerate(centroids):\n",
        "    rep = find_rep(X, C, i, clusters)\n",
        "    representatives.append(rep)\n",
        "print(representatives)"
      ],
      "execution_count": null,
      "outputs": [
        {
          "output_type": "stream",
          "text": [
            "[1243, 1165, 1132, 752, 2029, 732, 2468]\n"
          ],
          "name": "stdout"
        }
      ]
    },
    {
      "cell_type": "code",
      "metadata": {
        "id": "ryNhNkYFTmHx",
        "colab_type": "code",
        "colab": {
          "base_uri": "https://localhost:8080/",
          "height": 173
        },
        "outputId": "5ab5d5d2-46a5-4171-dfe1-977cd96d0046"
      },
      "source": [
        "# We manually classify the representatives\n",
        "print('\\t'.join([\"cluster\", \"index\", \"text\"]))\n",
        "\n",
        "for i, r in enumerate(representatives):\n",
        "  print('\\t'.join([str(i), str(r), detokenized_text[r]]))"
      ],
      "execution_count": null,
      "outputs": [
        {
          "output_type": "stream",
          "text": [
            "cluster\tindex\ttext\n",
            "0\t1243\tstudentreasures wallburner Looking forward internet technology got hit Ransomware ! We October March Coronavirus hit ! A normal school year would nice ! 🤣\n",
            "1\t1165\tGoogle blocks 18 million Covid19 scams Gmail every day # Google # COVID19 # Gmail # Scam # Spam # Attack httpstcomt1bcIynQI\n",
            "2\t1132\tPlease # enjoy # todays # Privacy # Legion httpstcoRhjSLQxU1C # Protect # data # unauthorized # access unauthorized # acquisition # times ! # COVID19 # CoronaVirus # Threats # Risk # CyberSecurity # Law # IdentityThieves # ContactTracing # GDPR # Surveillance # Breach\n",
            "3\t752\tIt wont work It destroy tourism industry And Im talking big businesses Im talking independent tour operators dont cash reserves sitting refunds And government wont help listen\n",
            "4\t2029\tNEWS Amid Pandemic Crypto Crime Surges First 5 Months CipherTrace httpstcoAtuXae0FJf # Cryptocurrency # Fraud # Coronavirus # Intelligence # DigitalCurrency # PaymentSystem # Planet # ChiefExecutiveOfficer # Reuters # OrdersOfMagnitude # Lakh # ChatRoom # Bitcoin\n",
            "5\t732\tEmiratesSupport httpstcoBIA9kzlUlT ticket still open I travel due covid19I spoke travel agent said partial use ticket sure much refund I getThey also charging £50 admin feeplease reply\n",
            "6\t2468\tToday take deep breaths extend extra kindness people work serve # COVID19 # BLM # selfcare httpstcoFhBIdEeurX\n"
          ],
          "name": "stdout"
        }
      ]
    },
    {
      "cell_type": "code",
      "metadata": {
        "id": "cadyL5Q4a4p-",
        "colab_type": "code",
        "colab": {}
      },
      "source": [
        "train_indices = [1165, 1132, 752, 2029, 732, 2468]\n",
        "train_labels = [1, 1, 0, 1, 1, 0]"
      ],
      "execution_count": null,
      "outputs": []
    },
    {
      "cell_type": "markdown",
      "metadata": {
        "id": "tDENmYDjANco",
        "colab_type": "text"
      },
      "source": [
        "###Make seed iteration of labelled data"
      ]
    },
    {
      "cell_type": "code",
      "metadata": {
        "id": "weC-kQts-Pte",
        "colab_type": "code",
        "colab": {}
      },
      "source": [
        "labelled = [-1 for i in range(len(detokenized_text))] # default all unlabelled\n",
        "predictions = [np.nan for i in range(len(detokenized_text))]\n",
        "for i, l in zip(train_indices, train_labels):\n",
        "  predictions[i] = l\n",
        "  labelled[i] = 0"
      ],
      "execution_count": null,
      "outputs": []
    },
    {
      "cell_type": "code",
      "metadata": {
        "id": "2EUDIrEF416e",
        "colab_type": "code",
        "colab": {}
      },
      "source": [
        "entries = []\n",
        "for i, (x, t) in enumerate(zip(X, detokenized_text)):\n",
        "  entries.append({\"rep\": x, \"text\": t})\n",
        "entries_df = pd.DataFrame(entries, columns=[\"rep\", \"text\"])\n",
        "entries_df[\"labelled\"] = labelled\n",
        "entries_df[\"iteration_0_label\"] = predictions\n",
        "# no corresponding score for this"
      ],
      "execution_count": null,
      "outputs": []
    },
    {
      "cell_type": "markdown",
      "metadata": {
        "id": "u1cMcNsQJ9Sl",
        "colab_type": "text"
      },
      "source": [
        "##Random forest classifier"
      ]
    },
    {
      "cell_type": "code",
      "metadata": {
        "id": "oJZh9eSQ6HUZ",
        "colab_type": "code",
        "colab": {}
      },
      "source": [
        "# https://scikit-learn.org/stable/modules/generated/sklearn.ensemble.RandomForestRegressor.html\n",
        "# look more into `apply`/`decision_path` to see which leaf each tweet ends up\n",
        "# feature_importance_\n",
        "# score\n",
        "\n",
        "from sklearn.ensemble import RandomForestRegressor"
      ],
      "execution_count": null,
      "outputs": []
    },
    {
      "cell_type": "code",
      "metadata": {
        "id": "o_W0Js7QJ73C",
        "colab_type": "code",
        "colab": {
          "base_uri": "https://localhost:8080/",
          "height": 34
        },
        "outputId": "c8c08426-28d9-49fc-9247-f8df08534987"
      },
      "source": [
        "rf = RandomForestRegressor(n_estimators=100, random_state=0)"
      ],
      "execution_count": null,
      "outputs": [
        {
          "output_type": "execute_result",
          "data": {
            "text/plain": [
              "0.8078500000000001"
            ]
          },
          "metadata": {
            "tags": []
          },
          "execution_count": 136
        }
      ]
    },
    {
      "cell_type": "markdown",
      "metadata": {
        "id": "i75pWxBb_P1L",
        "colab_type": "text"
      },
      "source": [
        "###Get previous iteration of data"
      ]
    },
    {
      "cell_type": "code",
      "metadata": {
        "id": "_WAeFNax_MvC",
        "colab_type": "code",
        "colab": {}
      },
      "source": [
        "entries_df = pd.read_csv(analyzed_dir + labelled_file)\n",
        "with open(analyzed_dir + forest_param_file, 'r') as f:\n",
        "    params = json.load(f)\n",
        "rf.set_params(params)"
      ],
      "execution_count": null,
      "outputs": []
    },
    {
      "cell_type": "markdown",
      "metadata": {
        "id": "Gk7WFp6mAgVi",
        "colab_type": "text"
      },
      "source": [
        "###Training"
      ]
    },
    {
      "cell_type": "code",
      "metadata": {
        "id": "XMfn5M-480P6",
        "colab_type": "code",
        "colab": {}
      },
      "source": [
        "# get labelled data\n",
        "labelled = entries_df[entries_df[\"labelled\"] is not -1]\n",
        "train_features = labelled[\"rep\"].to_list()\n",
        "train_labels = labelled[\"iteration_{}_label\".format(iteration)]\n",
        "iteration = 1 # for new round"
      ],
      "execution_count": null,
      "outputs": []
    },
    {
      "cell_type": "code",
      "metadata": {
        "id": "pbKVdaKy3DT3",
        "colab_type": "code",
        "colab": {}
      },
      "source": [
        "# train forest\n",
        "rf = rf.fit(train_features, train_labels)\n",
        "rf.score(train_features, train_labels) # R^2"
      ],
      "execution_count": null,
      "outputs": []
    },
    {
      "cell_type": "code",
      "metadata": {
        "id": "7TCPtiGHz0uY",
        "colab_type": "code",
        "colab": {}
      },
      "source": [
        "# get score for each entry\n",
        "unlabelled = entries_df[entries_df[\"labelled\"] == False]\n",
        "prediction = []\n",
        "scores = []\n",
        "for i, row in unlabelled.iterrows():\n",
        "  prediction.append(rf.predict(row[\"rep\"]))\n",
        "  scores.append(rf.score(row[\"rep\"]))\n",
        "unlabelled[\"iteration_{}_label\".format(iteration)] = prediction\n",
        "unlabelled[\"iteration_{}_score\".format(iteration)] = scores\n",
        "entries_df = pd.concat([unlabelled, entries_df], axis=1, sort=False))"
      ],
      "execution_count": null,
      "outputs": []
    },
    {
      "cell_type": "code",
      "metadata": {
        "id": "EpLHGCWv1Ns4",
        "colab_type": "code",
        "colab": {}
      },
      "source": [
        "# hard label the top N points of each class\n",
        "N = 50\n",
        "for label, group in entries_df.groupby(\"label\"):\n",
        "  top = group.sort_values(\"iteration_{}_score\".format(iteration)).head(N)\n",
        "  top[\"labelled\"] = iteration\n",
        "  entries_df = pd.concat([top, entries_df], axis=1, sort=False))"
      ],
      "execution_count": null,
      "outputs": []
    },
    {
      "cell_type": "markdown",
      "metadata": {
        "id": "FuQVCgCY-2Rd",
        "colab_type": "text"
      },
      "source": [
        "###Save current iteration of data"
      ]
    },
    {
      "cell_type": "code",
      "metadata": {
        "id": "tP_qO16S-VNS",
        "colab_type": "code",
        "colab": {}
      },
      "source": [
        "entries_df.to_csv(sep='\\t', path_or_buf=analyzed_dir + labelled_file)\n",
        "params = rf.get_params()\n",
        "with open(forest_param_file, 'w') as f:\n",
        "    json.dump(params, f)"
      ],
      "execution_count": null,
      "outputs": []
    },
    {
      "cell_type": "markdown",
      "metadata": {
        "id": "8RUBnuFcCdTc",
        "colab_type": "text"
      },
      "source": [
        "If desired, the human can intervene here and analyze the output file. \n",
        "They can sort the data by labelled and view the newest iteration of labellings, then change it if needed."
      ]
    }
  ]
}