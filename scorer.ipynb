{
  "nbformat": 4,
  "nbformat_minor": 0,
  "metadata": {
    "colab": {
      "name": "scorer",
      "provenance": [],
      "authorship_tag": "ABX9TyM3SfGBOWW56FMPFvji4WcJ",
      "include_colab_link": true
    },
    "kernelspec": {
      "name": "python3",
      "display_name": "Python 3"
    }
  },
  "cells": [
    {
      "cell_type": "markdown",
      "metadata": {
        "id": "view-in-github",
        "colab_type": "text"
      },
      "source": [
        "<a href=\"https://colab.research.google.com/github/slz4025/twitter_latent_scams/blob/master/scorer.ipynb\" target=\"_parent\"><img src=\"https://colab.research.google.com/assets/colab-badge.svg\" alt=\"Open In Colab\"/></a>"
      ]
    },
    {
      "cell_type": "markdown",
      "metadata": {
        "id": "CElwBfxAvL4v",
        "colab_type": "text"
      },
      "source": [
        "This is a basic regex scorer that helps identify tweets that are more obviously scams."
      ]
    },
    {
      "cell_type": "code",
      "metadata": {
        "id": "cq6GHoJutiRt",
        "colab_type": "code",
        "colab": {
          "base_uri": "https://localhost:8080/",
          "height": 122
        },
        "outputId": "6c9f8c28-bbc8-4033-9168-928a3e94ace0"
      },
      "source": [
        "from google.colab import drive\n",
        "drive.mount('/content/drive')"
      ],
      "execution_count": null,
      "outputs": [
        {
          "output_type": "stream",
          "text": [
            "Go to this URL in a browser: https://accounts.google.com/o/oauth2/auth?client_id=947318989803-6bn6qk8qdgf4n4g3pfee6491hc0brc4i.apps.googleusercontent.com&redirect_uri=urn%3aietf%3awg%3aoauth%3a2.0%3aoob&response_type=code&scope=email%20https%3a%2f%2fwww.googleapis.com%2fauth%2fdocs.test%20https%3a%2f%2fwww.googleapis.com%2fauth%2fdrive%20https%3a%2f%2fwww.googleapis.com%2fauth%2fdrive.photos.readonly%20https%3a%2f%2fwww.googleapis.com%2fauth%2fpeopleapi.readonly\n",
            "\n",
            "Enter your authorization code:\n",
            "··········\n",
            "Mounted at /content/drive\n"
          ],
          "name": "stdout"
        }
      ]
    },
    {
      "cell_type": "code",
      "metadata": {
        "id": "7tlLYJGGxqsR",
        "colab_type": "code",
        "colab": {}
      },
      "source": [
        "file_name = \"filtered_test\" #@param {type: \"string\"}"
      ],
      "execution_count": null,
      "outputs": []
    },
    {
      "cell_type": "code",
      "metadata": {
        "id": "1SeUQAuMtz0i",
        "colab_type": "code",
        "colab": {}
      },
      "source": [
        "processed_dir = \"drive/My Drive/latent_scams/processed_data/\"\n",
        "analyzed_dir = \"drive/My Drive/latent_scams/analyzed/\"\n",
        "data_file = \"{}.json\".format(file_name)\n",
        "score_file = \"scored_{}.tsv\".format(file_name)"
      ],
      "execution_count": null,
      "outputs": []
    },
    {
      "cell_type": "code",
      "metadata": {
        "id": "FXJlGwoTtwUJ",
        "colab_type": "code",
        "colab": {}
      },
      "source": [
        "import json\n",
        "import pandas as pd\n",
        "import re"
      ],
      "execution_count": null,
      "outputs": []
    },
    {
      "cell_type": "code",
      "metadata": {
        "id": "WdaK37_jvwEd",
        "colab_type": "code",
        "colab": {}
      },
      "source": [
        "scam_words_list = [\n",
        "    (re.compile(r\"\\bscam\", re.IGNORECASE), 2),\n",
        "    (re.compile(r\"\\bfraud\", re.IGNORECASE), 2),\n",
        "    (re.compile(r\"\\bthief\\b\", re.IGNORECASE), 0),\n",
        "    (re.compile(r\"\\bthieves\\b\", re.IGNORECASE), 0),\n",
        "    (re.compile(r\"\\btheft\\b\", re.IGNORECASE), 1),\n",
        "    (re.compile(r\"\\bhacked\\b\", re.IGNORECASE), 3),\n",
        "    (re.compile(r\"\\bhacker\\b\", re.IGNORECASE), 5),\n",
        "    (re.compile(r\"\\bphish\", re.IGNORECASE), 5),\n",
        "    (re.compile(r\"\\bransomware\\b\", re.IGNORECASE), 5),\n",
        "    (re.compile(r\"\\bmalware\\b\", re.IGNORECASE), 5),\n",
        "    (re.compile(r\"\\bspam\", re.IGNORECASE), 2),\n",
        "    (re.compile(r\"\\bspoof\", re.IGNORECASE), 3),\n",
        "    (re.compile(r\"\\brobocall\", re.IGNORECASE), 5),\n",
        "    (re.compile(r\"\\bcounterfeit\", re.IGNORECASE), 1),\n",
        "    (re.compile(r\"\\bimpersonat\", re.IGNORECASE), 3),\n",
        "    (re.compile(r\"\\bcon(s\\b|\\b)\", re.IGNORECASE), 1),\n",
        "    (re.compile(r\"\\bphony\\b\", re.IGNORECASE), 0),\n",
        "    (re.compile(r\"\\bphoney\\b\", re.IGNORECASE), 0),\n",
        "    (re.compile(r\"\\bthreat\", re.IGNORECASE), 1),\n",
        "    (re.compile(r\"\\blure\", re.IGNORECASE), 2),\n",
        "    (re.compile(r\"\\bexploit\", re.IGNORECASE), 2),\n",
        "    (re.compile(r\"\\bprey\", re.IGNORECASE), 3),\n",
        "    (re.compile(r\"\\bmalicious\\b\", re.IGNORECASE), 4),\n",
        "    (re.compile(r\"\\btarget\", re.IGNORECASE), 1),\n",
        "    (re.compile(r\"\\bvulnerable\\b\", re.IGNORECASE), 1),\n",
        "    (re.compile(r\"\\bfall for\\b\", re.IGNORECASE), 0.5),\n",
        "    (re.compile(r\"\\bmiracle\", re.IGNORECASE), 1),\n",
        "    (re.compile(r\"\\bclick\", re.IGNORECASE), 0),\n",
        "    (re.compile(r\"\\blink\", re.IGNORECASE), 0),\n",
        "    (re.compile(r\"\\bid\\b\", re.IGNORECASE), 0),\n",
        "    (re.compile(r\"\\bidentity\\b\", re.IGNORECASE), 2.5),\n",
        "    (re.compile(r\"\\bsham\\b\", re.IGNORECASE), 0),\n",
        "    (re.compile(r\"\\blaunder\", re.IGNORECASE), 1),\n",
        "    (re.compile(r\"\\bdownload\", re.IGNORECASE), 0.5),\n",
        "    (re.compile(r\"\\bvoucher\\b\", re.IGNORECASE), 1),\n",
        "    (re.compile(r\"\\brefund\", re.IGNORECASE), 4),\n",
        "    (re.compile(r\"\\bbrowser\\b\", re.IGNORECASE), 0),\n",
        "    (re.compile(r\"\\binbox\\b\", re.IGNORECASE), 0.5),\n",
        "    (re.compile(r\"\\bbreach\", re.IGNORECASE), 3),\n",
        "    (re.compile(r\"\\bcrime\\b\", re.IGNORECASE), 3),\n",
        "    (re.compile(r\"\\bcriminal\", re.IGNORECASE), 1.5),\n",
        "    (re.compile(r\"\\bhack\\b\", re.IGNORECASE), 1.5),\n",
        "    (re.compile(r\"\\bsteal\\b\", re.IGNORECASE), 1),\n",
        "    (re.compile(r\"\\bstole\\b\", re.IGNORECASE), 1),\n",
        "    (re.compile(r\"\\bsuspicious\\b\", re.IGNORECASE), 4),\n",
        "    (re.compile(r\"\\bscheme\", re.IGNORECASE), 0),\n",
        "    (re.compile(r\"\\bvictim\", re.IGNORECASE), 0),\n",
        "    (re.compile(r\"(\\b|\\bun)solicit\", re.IGNORECASE), 1),\n",
        "    (re.compile(r\"\\bpretend\", re.IGNORECASE), 0),\n",
        "    (re.compile(r\"\\bbitcoin\\b\", re.IGNORECASE), 0),\n",
        "    (re.compile(r\"\\bcrypto\", re.IGNORECASE), 2),\n",
        "    (re.compile(r\"\\bdebit\", re.IGNORECASE), 0),\n",
        "    (re.compile(r\"\\bgiftcard\", re.IGNORECASE), 0),\n",
        "    (re.compile(r\"\\bemail\", re.IGNORECASE), 1),\n",
        "    (re.compile(r\"\\bfake\", re.IGNORECASE), 0),\n",
        "    (re.compile(r\"\\bfalse\\b\", re.IGNORECASE), 0),\n",
        "    (re.compile(r\"\\btext\", re.IGNORECASE), 1.5),\n",
        "    (re.compile(r\"\\btxt\", re.IGNORECASE), 0),\n",
        "    (re.compile(r\"message\", re.IGNORECASE), 0),\n",
        "    (re.compile(r\"\\bstimulus\", re.IGNORECASE), 0),\n",
        "    (re.compile(r\"\\btax\", re.IGNORECASE), 0),\n",
        "    (re.compile(r\"\\bcaller\", re.IGNORECASE), 1),\n",
        "    (re.compile(r\"\\bbuy\", re.IGNORECASE), 0),\n",
        "    (re.compile(r\"\\bcontact trace\", re.IGNORECASE), 0),\n",
        "    (re.compile(r\"\\bcomplaint\\b\", re.IGNORECASE), 0),\n",
        "    (re.compile(r\"\\bfile\", re.IGNORECASE), 0),\n",
        "    (re.compile(r\"\\bwire\", re.IGNORECASE), 0),\n",
        "    (re.compile(r\"\\bweb\\b\", re.IGNORECASE), 0),\n",
        "    (re.compile(r\"\\bwebpage\", re.IGNORECASE), 0),\n",
        "    (re.compile(r\"\\bloan\", re.IGNORECASE), 0),\n",
        "    (re.compile(r\"\\bsms\\b\", re.IGNORECASE), 1.5),\n",
        "    (re.compile(r\"(\\b|\\bun)authentic\", re.IGNORECASE), 1.5),\n",
        "    (re.compile(r\"\\blie(\\b|s\\b)\", re.IGNORECASE), 0),\n",
        "    (re.compile(r\"\\bliar\", re.IGNORECASE), 0),\n",
        "    (re.compile(r\"\\bad(\\b|s\\b)\", re.IGNORECASE), 0),\n",
        "    (re.compile(r\"\\badvertise\", re.IGNORECASE), 0),\n",
        "]\n",
        "scam_words = {r.pattern:{\"reg\": r, \"score\": s} for r, s in scam_words_list}"
      ],
      "execution_count": null,
      "outputs": []
    },
    {
      "cell_type": "code",
      "metadata": {
        "id": "QwSywlhQvO57",
        "colab_type": "code",
        "colab": {}
      },
      "source": [
        "global score_df\n",
        "score_df = pd.DataFrame()"
      ],
      "execution_count": null,
      "outputs": []
    },
    {
      "cell_type": "code",
      "metadata": {
        "id": "9tejaAKItrzA",
        "colab_type": "code",
        "colab": {}
      },
      "source": [
        "def score_text(body, hashtags):\n",
        "    # for now, hashtags should be in body so just use body\n",
        "    score = sum([v[\"score\"] for k, v in scam_words.items() if v[\"reg\"].search(body) is not None])\n",
        "    rationale = [k for k, v in scam_words.items() if v[\"reg\"].search(body) is not None]\n",
        "    return score, rationale\n",
        "\n",
        "def score(tweet):\n",
        "    global score_df\n",
        "    tweet_id = tweet[\"id_str\"]\n",
        "    score = 0\n",
        "    rationale = []\n",
        "\n",
        "    body = tweet[\"text\"]\n",
        "    hashtags = [h[\"text\"] for h in tweet[\"entities\"][\"hashtags\"]]\n",
        "    if \"extended_tweet\" in tweet:\n",
        "        body = tweet[\"extended_tweet\"][\"full_text\"]\n",
        "        hashtags = [h[\"text\"] for h in tweet[\"extended_tweet\"][\"entities\"][\"hashtags\"]]\n",
        "    sub_score, sub_rationale = score_text(body, hashtags)\n",
        "\n",
        "    score += sub_score\n",
        "    rationale += sub_rationale \n",
        "\n",
        "    score_df = score_df.append({\"tweet_id\": tweet_id, \"score\": score, \"rationale\": rationale}, ignore_index = True)"
      ],
      "execution_count": null,
      "outputs": []
    },
    {
      "cell_type": "code",
      "metadata": {
        "id": "AHzqHCkCvZDi",
        "colab_type": "code",
        "colab": {
          "base_uri": "https://localhost:8080/",
          "height": 34
        },
        "outputId": "f3a3da2c-a436-4fc4-fc42-69e37326f299"
      },
      "source": [
        "with open(processed_dir + data_file) as contents:\n",
        "    count = 0\n",
        "    for line in contents:\n",
        "        line = line.strip()\n",
        "        if line == '': continue\n",
        "        t = json.loads(line)\n",
        "        score(t)\n",
        "        if count % 1000 == 0: print(\"Processed \", count)\n",
        "        count += 1"
      ],
      "execution_count": null,
      "outputs": [
        {
          "output_type": "stream",
          "text": [
            "Processed  0\n"
          ],
          "name": "stdout"
        }
      ]
    },
    {
      "cell_type": "code",
      "metadata": {
        "id": "y2yJIGHovNGP",
        "colab_type": "code",
        "colab": {}
      },
      "source": [
        "score_df.to_csv(\n",
        "    sep=\"\\t\", path_or_buf=analyzed_dir + score_file\n",
        ")"
      ],
      "execution_count": null,
      "outputs": []
    }
  ]
}