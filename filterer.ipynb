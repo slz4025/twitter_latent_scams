{
  "nbformat": 4,
  "nbformat_minor": 0,
  "metadata": {
    "colab": {
      "name": "filterer",
      "provenance": [],
      "authorship_tag": "ABX9TyOMpV4uoUkvA+b/i59U++Ss",
      "include_colab_link": true
    },
    "kernelspec": {
      "name": "python3",
      "display_name": "Python 3"
    }
  },
  "cells": [
    {
      "cell_type": "markdown",
      "metadata": {
        "id": "view-in-github",
        "colab_type": "text"
      },
      "source": [
        "<a href=\"https://colab.research.google.com/github/slz4025/twitter_latent_scams/blob/master/filterer.ipynb\" target=\"_parent\"><img src=\"https://colab.research.google.com/assets/colab-badge.svg\" alt=\"Open In Colab\"/></a>"
      ]
    },
    {
      "cell_type": "markdown",
      "metadata": {
        "id": "v1ffPwKTvAV3",
        "colab_type": "text"
      },
      "source": [
        "This script filters out tweets that are not English or undefined, that are written by a verified author, and that are retweets."
      ]
    },
    {
      "cell_type": "code",
      "metadata": {
        "id": "A7bv9p3qsiHe",
        "colab_type": "code",
        "colab": {
          "base_uri": "https://localhost:8080/",
          "height": 122
        },
        "outputId": "3edd9b01-14f3-4f0a-cee7-78d15dad2fda"
      },
      "source": [
        "from google.colab import drive\n",
        "drive.mount('/content/drive')"
      ],
      "execution_count": null,
      "outputs": [
        {
          "output_type": "stream",
          "text": [
            "Go to this URL in a browser: https://accounts.google.com/o/oauth2/auth?client_id=947318989803-6bn6qk8qdgf4n4g3pfee6491hc0brc4i.apps.googleusercontent.com&redirect_uri=urn%3aietf%3awg%3aoauth%3a2.0%3aoob&response_type=code&scope=email%20https%3a%2f%2fwww.googleapis.com%2fauth%2fdocs.test%20https%3a%2f%2fwww.googleapis.com%2fauth%2fdrive%20https%3a%2f%2fwww.googleapis.com%2fauth%2fdrive.photos.readonly%20https%3a%2f%2fwww.googleapis.com%2fauth%2fpeopleapi.readonly\n",
            "\n",
            "Enter your authorization code:\n",
            "··········\n",
            "Mounted at /content/drive\n"
          ],
          "name": "stdout"
        }
      ]
    },
    {
      "cell_type": "code",
      "metadata": {
        "id": "-49F26YHx1my",
        "colab_type": "code",
        "colab": {}
      },
      "source": [
        "file_name = \"covid_20200602\" #@param {type: \"string\"}"
      ],
      "execution_count": null,
      "outputs": []
    },
    {
      "cell_type": "code",
      "metadata": {
        "id": "SdF8BAQDsp_5",
        "colab_type": "code",
        "colab": {}
      },
      "source": [
        "data_dir = \"drive/My Drive/latent_scams/data/\"#@param {type: \"string\"}\n",
        "processed_dir = \"drive/My Drive/latent_scams/processed_data/\"#@param {type: \"string\"}\n",
        "data_file = \"{}.json\".format(file_name)\n",
        "output_file = \"filtered_{}.json\".format(file_name)\n",
        "tweet_file = \"filtered_{}.tsv\".format(file_name)"
      ],
      "execution_count": null,
      "outputs": []
    },
    {
      "cell_type": "code",
      "metadata": {
        "id": "bL2cEHSa1LPw",
        "colab_type": "code",
        "colab": {
          "base_uri": "https://localhost:8080/",
          "height": 54
        },
        "outputId": "54a618a3-a778-4772-9516-e3a947b8ef0b"
      },
      "source": [
        "!unzip \"$data_dir$file_name\".zip -d \"$data_dir$file_name\"\n",
        "!mv \"$data_dir$file_name/$data_file\" \"$data_dir$data_file\""
      ],
      "execution_count": null,
      "outputs": [
        {
          "output_type": "stream",
          "text": [
            "unzip:  cannot find or open drive/My Drive/latent_scams/data/covid_20200602.zip, drive/My Drive/latent_scams/data/covid_20200602.zip.zip or drive/My Drive/latent_scams/data/covid_20200602.zip.ZIP.\n"
          ],
          "name": "stdout"
        }
      ]
    },
    {
      "cell_type": "code",
      "metadata": {
        "id": "gduq2BADsoFw",
        "colab_type": "code",
        "colab": {}
      },
      "source": [
        "import json\n",
        "import pandas as pd"
      ],
      "execution_count": null,
      "outputs": []
    },
    {
      "cell_type": "code",
      "metadata": {
        "id": "I3YBEPOUsKTs",
        "colab_type": "code",
        "colab": {
          "base_uri": "https://localhost:8080/",
          "height": 34
        },
        "outputId": "9ce2aa75-7dfa-4596-a6b5-2ac841a7036b"
      },
      "source": [
        "def check_verified(tweet):\n",
        "    return tweet[\"user\"][\"verified\"]\n",
        "\n",
        "def check_retweet(tweet):\n",
        "    return \"retweeted_status\" in tweet\n",
        "\n",
        "def check_english(tweet):\n",
        "    return tweet[\"lang\"] == \"en\" or tweet[\"lang\"] is None\n",
        "\n",
        "with open(processed_dir + output_file, \"w+\") as out:\n",
        "    with open(data_dir + data_file) as contents:\n",
        "        count = 0\n",
        "        for line in contents:\n",
        "            line = line.strip()\n",
        "            if line == '': continue\n",
        "            t = json.loads(line)\n",
        "            verified = check_verified(t)\n",
        "            retweet = check_retweet(t)\n",
        "            eng = check_english(t)\n",
        "            if not verified and not retweet and eng:\n",
        "                out.write(line + \"\\n\")\n",
        "            if count % 1000 == 0: print(\"Processed \", count)\n",
        "            count += 1"
      ],
      "execution_count": null,
      "outputs": [
        {
          "output_type": "stream",
          "text": [
            "Processed  0\n"
          ],
          "name": "stdout"
        }
      ]
    },
    {
      "cell_type": "code",
      "metadata": {
        "id": "A1_8zG7u1YDE",
        "colab_type": "code",
        "colab": {}
      },
      "source": [
        "no_whitespace = str.maketrans({s: ' ' for s in string.whitespace})\n",
        "def get_body(tweet):\n",
        "    body = tweet[\"text\"]\n",
        "    if \"extended_tweet\" in tweet:\n",
        "        body = tweet[\"extended_tweet\"][\"full_text\"]\n",
        "    body = body.translate(no_whitespace)\n",
        "    return body\n",
        "\n",
        "tweets = []\n",
        "with open(processed_dir + output_file) as contents:\n",
        "  for line in contents:\n",
        "    line = line.strip()\n",
        "    t = json.loads(line)\n",
        "    tweet_id = t[\"id_str\"]\n",
        "    body = get_body(t)\n",
        "    tweets.append({\"tweet_id\": tweet_id, \"body\": body})\n",
        "\n",
        "tweet_pd = pd.DataFrame(tweets, columns=[\"tweet_id\", \"body\"])\n",
        "tweet_pd.to_csv(sep=\"\\t\", path_or_buf=processed_dir + tweet_file)"
      ],
      "execution_count": null,
      "outputs": []
    }
  ]
}