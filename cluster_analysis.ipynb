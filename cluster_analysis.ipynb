{
  "nbformat": 4,
  "nbformat_minor": 0,
  "metadata": {
    "colab": {
      "name": "cluster_analysis",
      "provenance": [],
      "collapsed_sections": [],
      "authorship_tag": "ABX9TyO17nuuYldX+2hhvvRx/6It",
      "include_colab_link": true
    },
    "kernelspec": {
      "name": "python3",
      "display_name": "Python 3"
    }
  },
  "cells": [
    {
      "cell_type": "markdown",
      "metadata": {
        "id": "view-in-github",
        "colab_type": "text"
      },
      "source": [
        "<a href=\"https://colab.research.google.com/github/slz4025/twitter_latent_scams/blob/master/cluster_analysis.ipynb\" target=\"_parent\"><img src=\"https://colab.research.google.com/assets/colab-badge.svg\" alt=\"Open In Colab\"/></a>"
      ]
    },
    {
      "cell_type": "code",
      "metadata": {
        "id": "nvwCBmN-zPU1",
        "colab_type": "code",
        "colab": {}
      },
      "source": [
        "from google.colab import drive\n",
        "drive.mount('/content/drive')"
      ],
      "execution_count": null,
      "outputs": []
    },
    {
      "cell_type": "markdown",
      "metadata": {
        "id": "w6dSvj5LzNpF",
        "colab_type": "text"
      },
      "source": [
        "##Data"
      ]
    },
    {
      "cell_type": "code",
      "metadata": {
        "id": "etmc93RjzUeo",
        "colab_type": "code",
        "colab": {}
      },
      "source": [
        "analyzed_dir = \"/content/drive/My Drive/latent_scams/analyzed/\"#@param {type: \"string\"}\n",
        "file_name = \"scam_scored.tsv\"#@param {type: \"string\"}\n",
        "body_key = \"corpus_filtered\""
      ],
      "execution_count": 3,
      "outputs": []
    },
    {
      "cell_type": "code",
      "metadata": {
        "id": "Zghhg-r6zYao",
        "colab_type": "code",
        "colab": {}
      },
      "source": [
        "import pandas as pd\n",
        "import numpy as np"
      ],
      "execution_count": 4,
      "outputs": []
    },
    {
      "cell_type": "code",
      "metadata": {
        "id": "C2OLyQX8zatF",
        "colab_type": "code",
        "colab": {}
      },
      "source": [
        "used_pd = pd.read_csv(analyzed_dir + file_name, sep=\"\\t\")\n",
        "\n",
        "docs = used_pd[body_key]\n",
        "docs = [\"\" if d != d else d for d in docs] # get rid of nan\n",
        "\n",
        "# https://topsbm.readthedocs.io/en/latest/examples/example.html#Setup:-Load-a-corpus\n",
        "from sklearn.feature_extraction.text import CountVectorizer\n",
        "vec = CountVectorizer(token_pattern=r'\\S+')\n",
        "X = vec.fit_transform(docs)"
      ],
      "execution_count": 5,
      "outputs": []
    },
    {
      "cell_type": "markdown",
      "metadata": {
        "id": "P5HVCAx6zmZZ",
        "colab_type": "text"
      },
      "source": [
        "##Perform"
      ]
    },
    {
      "cell_type": "code",
      "metadata": {
        "id": "EoaZiYkLzj48",
        "colab_type": "code",
        "colab": {}
      },
      "source": [
        "!echo \"deb http://downloads.skewed.de/apt bionic main\" >> /etc/apt/sources.list\n",
        "!apt-key adv --keyserver keys.openpgp.org --recv-key 612DEFB798507F25\n",
        "!apt-get update\n",
        "!apt-get install python3-graph-tool python3-cairo python3-matplotlib\n",
        "# TopSBM: https://topsbm.github.io/\n",
        "!pip install topsbm"
      ],
      "execution_count": null,
      "outputs": []
    },
    {
      "cell_type": "code",
      "metadata": {
        "id": "cSyt5mnUzpoI",
        "colab_type": "code",
        "colab": {}
      },
      "source": [
        "from topsbm import TopSBM\n",
        "model = TopSBM(random_state=9)\n",
        "Xt = model.fit_transform(X)"
      ],
      "execution_count": 7,
      "outputs": []
    },
    {
      "cell_type": "markdown",
      "metadata": {
        "id": "7SsEori3zSnD",
        "colab_type": "text"
      },
      "source": [
        "##Analyze"
      ]
    },
    {
      "cell_type": "code",
      "metadata": {
        "id": "dsh50lbZzrVl",
        "colab_type": "code",
        "colab": {}
      },
      "source": [
        "\"\"\"\n",
        "document-nodes are on the left\n",
        "word-nodes are on the right\n",
        "different colors correspond to the different groups\n",
        "-- https://topsbm.readthedocs.io/en/latest/examples/example.html#Setup:-Load-a-corpus\n",
        "\"\"\"\n",
        "\n",
        "model.plot_graph(n_edges=1000)"
      ],
      "execution_count": null,
      "outputs": []
    },
    {
      "cell_type": "code",
      "metadata": {
        "id": "m_7qSenvztyo",
        "colab_type": "code",
        "colab": {}
      },
      "source": [
        "granularity = 0\n",
        "M = model.groups_[granularity]\n",
        "M.keys(), M[\"Bd\"], M[\"Bw\"]"
      ],
      "execution_count": null,
      "outputs": []
    },
    {
      "cell_type": "code",
      "metadata": {
        "id": "uqjKtG_az0qX",
        "colab_type": "code",
        "colab": {}
      },
      "source": [
        "# Topics: by words\n",
        "topics = pd.DataFrame(M['p_w_tw'],\n",
        "  index=vec.get_feature_names())\n",
        "for topic in topics.columns:\n",
        "  print(\"Group {}: \".format(topic))\n",
        "  T = topics[topic]\n",
        "  L = T[T > 0.01]\n",
        "  L = L.nlargest(10)\n",
        "  l_str = \"\"\n",
        "  for l in L.index:\n",
        "    if l[0] == \"#\":\n",
        "      l = \"\\\\\" + l\n",
        "    l = l.replace(\"_\", \"\\\\_\")\n",
        "    l_str += l + \", \"\n",
        "  print(l_str[:-2])\n",
        "  print()"
      ],
      "execution_count": null,
      "outputs": []
    },
    {
      "cell_type": "code",
      "metadata": {
        "id": "9Wc7Gpt7z7br",
        "colab_type": "code",
        "colab": {}
      },
      "source": [
        "# Topics: by docs\n",
        "from gensim import corpora\n",
        "from sklearn.cluster import KMeans\n",
        "from sklearn.utils.testing import ignore_warnings\n",
        "from sklearn.exceptions import ConvergenceWarning\n",
        "\n",
        "doc_cluster_labels = pd.DataFrame(M['p_td_d']).idxmax(axis=0)\n",
        "used_pd[\"topsbm_doc_cluster\"] = doc_cluster_labels\n",
        "\n",
        "for doc_topic in used_pd[\"topsbm_doc_cluster\"].unique():\n",
        "  df = used_pd[used_pd[\"topsbm_doc_cluster\"] == doc_topic]\n",
        "\n",
        "  print(\"Topic {}\".format(doc_topic))\n",
        "\n",
        "  group_docs = [d.split(' ') for d in df[body_key]]\n",
        "  dictionary = corpora.Dictionary(group_docs)\n",
        "  N = len(dictionary)\n",
        "  def conv(bow):\n",
        "    a = np.zeros(N)\n",
        "    for w, f in bow:\n",
        "      a[w] = f\n",
        "    return a\n",
        "  data = np.array([conv(dictionary.doc2bow(d)) for d in group_docs])\n",
        "\n",
        "  # get approximate 10 most distant points\n",
        "  n_reps = 10\n",
        "  if df.shape[0] <= n_reps:\n",
        "    n_reps = df.shape[0] - 1\n",
        "\n",
        "  @ignore_warnings(category=ConvergenceWarning)\n",
        "  def run():\n",
        "    km = KMeans(n_clusters=n_reps, random_state=0).fit(data)\n",
        "    clusters = km.labels_\n",
        "    centroids = km.cluster_centers_\n",
        "\n",
        "    def find_rep(data, C, i_centroid, cluster_labels):\n",
        "      D = data[cluster_labels == i_centroid]\n",
        "      if D.shape[0] == 0: return None\n",
        "      # index is 1D so take first dim\n",
        "      I = np.where(cluster_labels == i_centroid)[0]\n",
        "      min_ind = np.argmin([np.linalg.norm(C-d) for d in D])\n",
        "      true_min_ind = I[min_ind]\n",
        "      return true_min_ind\n",
        "\n",
        "    df_ = df.reset_index(drop=True)\n",
        "    reps = []\n",
        "    for i, C in enumerate(centroids):\n",
        "        rep = find_rep(data, C, i, clusters)\n",
        "        if rep:\n",
        "          reps.append(rep)\n",
        "\n",
        "    if len(reps) > 0:\n",
        "      for rep in reps:\n",
        "          print(df_.iloc[rep][\"body\"])\n",
        "    else:\n",
        "      for i, r in df.iterrows():\n",
        "        print(r[\"body\"])\n",
        "    print()\n",
        "\n",
        "  run()\n",
        "  print()\n",
        "  print()"
      ],
      "execution_count": null,
      "outputs": []
    }
  ]
}