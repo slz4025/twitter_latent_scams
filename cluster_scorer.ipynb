{
  "nbformat": 4,
  "nbformat_minor": 0,
  "metadata": {
    "colab": {
      "name": "cluster_scorer",
      "provenance": [],
      "collapsed_sections": [],
      "authorship_tag": "ABX9TyO0hsu3YBAq4YZs+uh8dF1s",
      "include_colab_link": true
    },
    "kernelspec": {
      "name": "python3",
      "display_name": "Python 3"
    }
  },
  "cells": [
    {
      "cell_type": "markdown",
      "metadata": {
        "id": "view-in-github",
        "colab_type": "text"
      },
      "source": [
        "<a href=\"https://colab.research.google.com/github/slz4025/twitter_latent_scams/blob/master/cluster_scorer.ipynb\" target=\"_parent\"><img src=\"https://colab.research.google.com/assets/colab-badge.svg\" alt=\"Open In Colab\"/></a>"
      ]
    },
    {
      "cell_type": "code",
      "metadata": {
        "id": "MDMxvkHKHs-x",
        "colab_type": "code",
        "colab": {}
      },
      "source": [
        "from google.colab import drive\n",
        "drive.mount('/content/drive')"
      ],
      "execution_count": null,
      "outputs": []
    },
    {
      "cell_type": "code",
      "metadata": {
        "id": "qKrdReCnFVI8",
        "colab_type": "code",
        "colab": {}
      },
      "source": [
        "import pandas as pd\n",
        "import numpy as np"
      ],
      "execution_count": null,
      "outputs": []
    },
    {
      "cell_type": "markdown",
      "metadata": {
        "id": "5SnE7u89LkpB",
        "colab_type": "text"
      },
      "source": [
        "## Data \n",
        "Load and select two groups: (1) likely scam related and (2) likely not scam related"
      ]
    },
    {
      "cell_type": "code",
      "metadata": {
        "id": "BKPHGbuGH9NG",
        "colab_type": "code",
        "colab": {}
      },
      "source": [
        "analyzed_dir = \"/content/drive/My Drive/latent_scams/analyzed/\"#@param {type: \"string\"}\n",
        "file_name = \"processing_all_with_score_filtered_covid_20200602.tsv\"#@param {type: \"string\"}\n",
        "body_key = \"corpus_filtered\""
      ],
      "execution_count": null,
      "outputs": []
    },
    {
      "cell_type": "code",
      "metadata": {
        "id": "F2EdfPGZIDu1",
        "colab_type": "code",
        "colab": {}
      },
      "source": [
        "def get_data(threshold):\n",
        "  tweets_pd = pd.read_csv(analyzed_dir + file_name, sep=\"\\t\")\n",
        "  used_pd = tweets_pd[tweets_pd[\"score\"] > threshold]\n",
        "  used_pd = used_pd.reset_index()\n",
        "\n",
        "  docs = used_pd[body_key]\n",
        "  docs = [\"\" if d != d else d for d in docs] # get rid of nan\n",
        "\n",
        "  # https://topsbm.readthedocs.io/en/latest/examples/example.html#Setup:-Load-a-corpus\n",
        "  from sklearn.feature_extraction.text import CountVectorizer\n",
        "  vec = CountVectorizer(token_pattern=r'\\S+')\n",
        "  X = vec.fit_transform(docs)\n",
        "\n",
        "  return used_pd, docs, vec, X"
      ],
      "execution_count": null,
      "outputs": []
    },
    {
      "cell_type": "code",
      "metadata": {
        "id": "NIetiog8K7ze",
        "colab_type": "code",
        "colab": {}
      },
      "source": [
        "threshold = 1 # choose first-pass scorer threshold to examine\n",
        "used_pd, docs, vec, X = get_data(threshold)"
      ],
      "execution_count": null,
      "outputs": []
    },
    {
      "cell_type": "markdown",
      "metadata": {
        "id": "JKNG_t_zLwoZ",
        "colab_type": "text"
      },
      "source": [
        "## TopSBM"
      ]
    },
    {
      "cell_type": "markdown",
      "metadata": {
        "id": "uSau7NStvYat",
        "colab_type": "text"
      },
      "source": [
        "###Perform"
      ]
    },
    {
      "cell_type": "code",
      "metadata": {
        "id": "Wqt3JGyTLwMy",
        "colab_type": "code",
        "colab": {}
      },
      "source": [
        "!echo \"deb http://downloads.skewed.de/apt bionic main\" >> /etc/apt/sources.list\n",
        "!apt-key adv --keyserver keys.openpgp.org --recv-key 612DEFB798507F25\n",
        "!apt-get update\n",
        "!apt-get install python3-graph-tool python3-cairo python3-matplotlib\n",
        "# TopSBM: https://topsbm.github.io/\n",
        "!pip install topsbm"
      ],
      "execution_count": null,
      "outputs": []
    },
    {
      "cell_type": "code",
      "metadata": {
        "id": "NMO57hQgJ6Pp",
        "colab_type": "code",
        "colab": {}
      },
      "source": [
        "from topsbm import TopSBM\n",
        "\n",
        "model = TopSBM(random_state=9)\n",
        "Xt = model.fit_transform(X)"
      ],
      "execution_count": null,
      "outputs": []
    },
    {
      "cell_type": "code",
      "metadata": {
        "id": "NGtPgKj4KDDf",
        "colab_type": "code",
        "colab": {}
      },
      "source": [
        "\"\"\"\n",
        "document-nodes are on the left\n",
        "word-nodes are on the right\n",
        "different colors correspond to the different groups\n",
        "-- https://topsbm.readthedocs.io/en/latest/examples/example.html#Setup:-Load-a-corpus\n",
        "\"\"\"\n",
        "\n",
        "model.plot_graph(n_edges=1000)"
      ],
      "execution_count": null,
      "outputs": []
    },
    {
      "cell_type": "code",
      "metadata": {
        "id": "p5u8IZzYXP9R",
        "colab_type": "code",
        "colab": {}
      },
      "source": [
        "\"\"\" https://topsbm.readthedocs.io/en/stable/api.html\n",
        "B_d : int\n",
        "number of doc-groups\n",
        "\n",
        "B_w : int\n",
        "number of word-groups\n",
        "\n",
        "p_tw_d : array of shape (B_w, d)\n",
        "doc-topic mixtures: prob of word-group tw in doc d P(tw | d)\n",
        "\n",
        "p_td_d : array of shape (B_d, n_samples)\n",
        "doc-group membership: prob that doc-node d belongs to doc-group td: P(td | d)\n",
        "\n",
        "p_tw_w : array of shape (B_w, n_features)\n",
        "word-group-membership: prob that word-node w belongs to word-group tw: P(tw | w)\n",
        "\n",
        "p_w_tw : array of shape (n_features, B_w)\n",
        "topic distribution: prob of word w given topic tw P(w | tw)\n",
        "\"\"\"\n",
        "\n",
        "granularity = 0\n",
        "M = model.groups_[granularity]\n",
        "M.keys(), M[\"Bd\"], M[\"Bw\"]"
      ],
      "execution_count": null,
      "outputs": []
    },
    {
      "cell_type": "code",
      "metadata": {
        "id": "DNvE04UJmT8y",
        "colab_type": "code",
        "colab": {}
      },
      "source": [
        "np.save(analyzed_dir + \"topsbm_model_results/topsbm_model_results_lim{}.npy\".format(ver), M)"
      ],
      "execution_count": null,
      "outputs": []
    },
    {
      "cell_type": "markdown",
      "metadata": {
        "id": "8EKyAHGXvcoQ",
        "colab_type": "text"
      },
      "source": [
        "### Analyze"
      ]
    },
    {
      "cell_type": "code",
      "metadata": {
        "id": "C6CV9zdRmzgT",
        "colab_type": "code",
        "colab": {}
      },
      "source": [
        "ver = 1 #@param {type: \"integer\"}\n",
        "used_pd, docs, vec, X = get_data(ver)\n",
        "M = np.load(analyzed_dir + \"topsbm_model_results/topsbm_model_results_lim{}.npy\".format(ver), allow_pickle=True)\n",
        "M = M[()]"
      ],
      "execution_count": null,
      "outputs": []
    },
    {
      "cell_type": "code",
      "metadata": {
        "id": "QNttaZ3x0Gco",
        "colab_type": "code",
        "colab": {}
      },
      "source": [
        "used_pd.shape, M[\"Bd\"], M[\"Bw\"]"
      ],
      "execution_count": null,
      "outputs": []
    },
    {
      "cell_type": "code",
      "metadata": {
        "id": "BWHusrDM0VvW",
        "colab_type": "code",
        "colab": {}
      },
      "source": [
        "# identified scam-relevant clusters for the following thresholds for June 2, 2020\n",
        "potential = {\n",
        "    0: [26,27,28,40,45,48,50,61,107,109,130,181],\n",
        "    1: [9,11,14,16,18,28,29,36,44,52,53,56,65,76,79,84],\n",
        "    2: [3,6,8,9,16,17,18,23,29],\n",
        "    3: [2,3,7,8,9,10,12,13,14,15,16,17,18,19,20,21,22,28,29,30,32,34,35],\n",
        "}\n",
        "potential = potential[ver]\n",
        "# vector of relevant scam-clusters\n",
        "pot_vec = np.zeros(M[\"Bw\"])\n",
        "pot_vec[potential] = 1.0"
      ],
      "execution_count": null,
      "outputs": []
    },
    {
      "cell_type": "code",
      "metadata": {
        "id": "ltc8EempK1LI",
        "colab_type": "code",
        "colab": {}
      },
      "source": [
        "# Topics: by words\n",
        "relevance_threshold = 0.01 # threshold for the probability a word is in the word group\n",
        "topics = pd.DataFrame(M['p_w_tw'],\n",
        "  index=vec.get_feature_names())\n",
        "for topic in topics.columns:\n",
        "  #if topic not in potential: continue\n",
        "  print(topic)\n",
        "  L = topics[topic].nlargest(10)\n",
        "  L = L[L > relevance_threshold]\n",
        "  for l in L.index:\n",
        "    if l[0] == \"#\":\n",
        "      l = \"\\\\\" + l\n",
        "    l = l.replace(\"_\", \"\\\\_\")\n",
        "    print(l, \"\\\\\\\\\")\n",
        "  print()"
      ],
      "execution_count": null,
      "outputs": []
    },
    {
      "cell_type": "code",
      "metadata": {
        "id": "RunA9ptdBZ6H",
        "colab_type": "code",
        "colab": {
          "base_uri": "https://localhost:8080/",
          "height": 35
        },
        "outputId": "aaa42f58-1c23-4ce7-f904-60f1295a7af2"
      },
      "source": [
        "relevancy_scores = [np.dot(m, pot_vec) for m in M['p_tw_d'].T]\n",
        "any(r > 1.0 for r in relevancy_scores) # check probability is reasonable"
      ],
      "execution_count": null,
      "outputs": [
        {
          "output_type": "execute_result",
          "data": {
            "text/plain": [
              "False"
            ]
          },
          "metadata": {
            "tags": []
          },
          "execution_count": 127
        }
      ]
    },
    {
      "cell_type": "code",
      "metadata": {
        "id": "23--FqPmMY7d",
        "colab_type": "code",
        "colab": {}
      },
      "source": [
        "# Clusters for documents based on word-groupings\n",
        "word_cluster_labels = pd.DataFrame(M['p_tw_d']).idxmax(axis=0)\n",
        "word_cluster_labels.head()"
      ],
      "execution_count": null,
      "outputs": []
    },
    {
      "cell_type": "code",
      "metadata": {
        "id": "7RUbuz_1YA0y",
        "colab_type": "code",
        "colab": {}
      },
      "source": [
        "# Clusters for documents based on document-groupings\n",
        "doc_cluster_labels = pd.DataFrame(M['p_td_d']).idxmax(axis=0)\n",
        "doc_cluster_labels.head()"
      ],
      "execution_count": null,
      "outputs": []
    },
    {
      "cell_type": "code",
      "metadata": {
        "id": "zZHq9Fi9PUsL",
        "colab_type": "code",
        "colab": {}
      },
      "source": [
        "used_pd[\"topsbm_word_cluster\"] = word_cluster_labels\n",
        "used_pd[\"topsbm_doc_cluster\"] = doc_cluster_labels\n",
        "used_pd[\"scam_relevancy_score\"] = relevancy_scores\n",
        "used_pd[\"topsbm_word_cluster\"].unique(), used_pd[\"topsbm_doc_cluster\"].unique()"
      ],
      "execution_count": null,
      "outputs": []
    },
    {
      "cell_type": "code",
      "metadata": {
        "id": "G2q_vyN0T3dD",
        "colab_type": "code",
        "colab": {}
      },
      "source": [
        "# Topics: by docs\n",
        "for topic in used_pd[\"topsbm_doc_cluster\"].unique():\n",
        "  df = used_pd[used_pd[\"topsbm_doc_cluster\"] == topic]\n",
        "  print(topic, df.shape[0])\n",
        "  print(df[\"corpus_filtered\"])\n",
        "  print()"
      ],
      "execution_count": null,
      "outputs": []
    },
    {
      "cell_type": "code",
      "metadata": {
        "id": "8X1VbvP4PyAG",
        "colab_type": "code",
        "colab": {}
      },
      "source": [
        "cluster_file_name = \"clustered_{}_\".format(ver) + file_name\n",
        "used_pd.to_csv(sep='\\t', path_or_buf=analyzed_dir + cluster_file_name)"
      ],
      "execution_count": null,
      "outputs": []
    },
    {
      "cell_type": "code",
      "metadata": {
        "id": "05_zpphsLPIW",
        "colab_type": "code",
        "colab": {}
      },
      "source": [
        "import matplotlib.pyplot as plt\n",
        "plt.scatter(used_pd[\"score\"], used_pd[\"scam_relevancy_score\"])\n",
        "plt.xlabel(\"keyword_score\")\n",
        "plt.ylabel(\"cluster_score\")"
      ],
      "execution_count": null,
      "outputs": []
    }
  ]
}